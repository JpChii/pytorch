{
  "cells": [
    {
      "cell_type": "markdown",
      "metadata": {
        "id": "nHSlwSmmSGm0"
      },
      "source": [
        "# PyTorch WorkFlow\n",
        "\n",
        "1. Data(prepare and load)\n",
        "2. Build model - Choose loss function, optimizer, training loop\n",
        "3. Fitting the model to the data\n",
        "4. Making predictions and evaluating a model\n",
        "5. Saving and loading a model\n",
        "6. Putting it all together"
      ]
    },
    {
      "cell_type": "code",
      "execution_count": 1,
      "metadata": {
        "colab": {
          "base_uri": "https://localhost:8080/",
          "height": 36
        },
        "id": "QknWjvCvSoBO",
        "outputId": "b960da75-0067-43b8-bb8f-1600ce972293"
      },
      "outputs": [
        {
          "data": {
            "text/plain": [
              "'1.10.2'"
            ]
          },
          "execution_count": 1,
          "metadata": {},
          "output_type": "execute_result"
        }
      ],
      "source": [
        "import torch\n",
        "from torch import nn\n",
        "import matplotlib.pyplot as plt\n",
        "\n",
        "torch.__version__"
      ]
    },
    {
      "cell_type": "markdown",
      "metadata": {
        "id": "b2xmb2JhS1gx"
      },
      "source": [
        "We'll get a hold of this workflow by doing this for predicting a straight line."
      ]
    },
    {
      "cell_type": "markdown",
      "metadata": {
        "id": "sTfyxRDGS8xB"
      },
      "source": [
        "## Data (preparing and loading)\n",
        "\n",
        "Let's create some data with `linear regression` and then use PyTorch to see if we can build a model to estimate these parameters using `gradient descent`."
      ]
    },
    {
      "cell_type": "code",
      "execution_count": null,
      "metadata": {
        "id": "UehnX1nXU1s6"
      },
      "outputs": [],
      "source": [
        "# Parameters\n",
        "weight = 0.7\n",
        "bias = 0.3\n",
        "\n",
        "# Create data\n",
        "start = 0\n",
        "end = 1\n",
        "step = 0.02\n",
        "\n",
        "X = torch.arange(start, end, step).unsqueeze(dim=1)\n",
        "y = weight * X + bias"
      ]
    },
    {
      "cell_type": "code",
      "execution_count": null,
      "metadata": {
        "colab": {
          "base_uri": "https://localhost:8080/"
        },
        "id": "IHQximHeVCQW",
        "outputId": "11adec66-4fc7-4da4-9b80-ed920847cda1"
      },
      "outputs": [
        {
          "data": {
            "text/plain": [
              "(tensor([[0.0000],\n",
              "         [0.0200],\n",
              "         [0.0400],\n",
              "         [0.0600],\n",
              "         [0.0800],\n",
              "         [0.1000],\n",
              "         [0.1200],\n",
              "         [0.1400],\n",
              "         [0.1600],\n",
              "         [0.1800]]), tensor([[0.3000],\n",
              "         [0.3140],\n",
              "         [0.3280],\n",
              "         [0.3420],\n",
              "         [0.3560],\n",
              "         [0.3700],\n",
              "         [0.3840],\n",
              "         [0.3980],\n",
              "         [0.4120],\n",
              "         [0.4260]]))"
            ]
          },
          "execution_count": 3,
          "metadata": {},
          "output_type": "execute_result"
        }
      ],
      "source": [
        "X[:10], y[:10]"
      ]
    },
    {
      "cell_type": "markdown",
      "metadata": {
        "id": "6pADN9rhVD_-"
      },
      "source": [
        "Nice!! Let's go and create a model that can learn the relationship between features and labels"
      ]
    },
    {
      "cell_type": "markdown",
      "metadata": {
        "id": "foRhud8eVRRD"
      },
      "source": [
        "### Splitting the data"
      ]
    },
    {
      "cell_type": "code",
      "execution_count": null,
      "metadata": {
        "id": "G8WTg6bFVcES"
      },
      "outputs": [],
      "source": [
        "train_split = int(0.8 * len(X))\n",
        "X_train, y_train = X[:train_split], y[:train_split]\n",
        "X_test, y_test = X[train_split:], y[train_split:]"
      ]
    },
    {
      "cell_type": "code",
      "execution_count": null,
      "metadata": {
        "colab": {
          "base_uri": "https://localhost:8080/"
        },
        "id": "DZRJdohNVrJv",
        "outputId": "beba85ab-2111-4333-f421-cb43c79034b2"
      },
      "outputs": [
        {
          "data": {
            "text/plain": [
              "(40, 40, 10, 10)"
            ]
          },
          "execution_count": 5,
          "metadata": {},
          "output_type": "execute_result"
        }
      ],
      "source": [
        "len(X_train), len(y_train), len(X_test), len(y_test)"
      ]
    },
    {
      "cell_type": "markdown",
      "metadata": {
        "id": "rjsHSQBWVvKt"
      },
      "source": [
        "The model will train on train data and evaluated on test data.\n",
        "\n",
        "Let's plot the data to see how it looks."
      ]
    },
    {
      "cell_type": "code",
      "execution_count": null,
      "metadata": {
        "id": "8A--q45UV8QM"
      },
      "outputs": [],
      "source": [
        "def plot_predictions(train_data=X_train,\n",
        "                     train_labels=y_train,\n",
        "                     test_data=X_test,\n",
        "                     test_labels=y_test,\n",
        "                     predictions=None):\n",
        "  \"\"\"\n",
        "  plots training data, test data and compares predictions\n",
        "  \"\"\"\n",
        "\n",
        "  plt.figure(figsize=(10,7))\n",
        "  plt.scatter(train_data, train_labels, c=\"b\", s=4, label=\"Training data\")\n",
        "  plt.scatter(test_data, test_labels, c=\"g\", s=4, label=\"Testing data\")\n",
        "\n",
        "  if predictions is not None:\n",
        "    plt.scatter(test_data, predictions, c=\"r\", s=4, label=\"preditions\")\n",
        "\n",
        "  plt.legend(prop={\"size\": 14})"
      ]
    },
    {
      "cell_type": "code",
      "execution_count": null,
      "metadata": {
        "colab": {
          "base_uri": "https://localhost:8080/",
          "height": 428
        },
        "id": "fh8ndWOCWH6F",
        "outputId": "b7f6d9c9-c197-4e18-fc85-cd4432aa2cc3"
      },
      "outputs": [
        {
          "data": {
            "image/png": "[encoded data removed]",
            "text/plain": [
              "<Figure size 720x504 with 1 Axes>"
            ]
          },
          "metadata": {
            "needs_background": "light"
          },
          "output_type": "display_data"
        }
      ],
      "source": [
        "plot_predictions()"
      ]
    },
    {
      "cell_type": "markdown",
      "metadata": {
        "id": "lHCNjmNxWePv"
      },
      "source": [
        "Wow!! That looks good and makes sense too."
      ]
    },
    {
      "cell_type": "markdown",
      "metadata": {
        "id": "kpJ-2n7MWnV_"
      },
      "source": [
        "## 2. Build model\n",
        "\n",
        "Let's replicate a standard linear regression model using pytorch."
      ]
    },
    {
      "cell_type": "code",
      "execution_count": null,
      "metadata": {
        "id": "O_kkzy1DWpP_"
      },
      "outputs": [],
      "source": [
        "# Create a linear regression model class\n",
        "class LinearRegressionModel(nn.Module): # almost everyting in PyTorch is a nn.module(this is a neural network lego block)\n",
        "  def __init__(self):\n",
        "    super().__init__()\n",
        "    self.weights = nn.Parameter(torch.randn(1, # Start with random weights and get's adjusted as model learns\n",
        "                                            requires_grad=True, # Update this value with gradient?\n",
        "                                            dtype=torch.float # PyTorch uses float32 by default\n",
        "                                            ))\n",
        "    \n",
        "    self.bias = nn.Parameter(torch.randn(1,\n",
        "                                         requires_grad=True,\n",
        "                                         dtype=torch.float\n",
        "                                         ))\n",
        "    \n",
        "  # Forward pass -> Computation in the model\n",
        "  def forward(self, x:torch.Tensor) -> torch.Tensor:\n",
        "    return self.weights * x + self.bias"
      ]
    },
    {
      "cell_type": "markdown",
      "metadata": {
        "id": "Mjo3j-n7eeaM"
      },
      "source": [
        "### PyTorch Model building essentials\n",
        "\n",
        "PyTorch has four (give or take) essential modules that can be used to create almost any kind of neural netwoork.\n",
        "\n",
        "They are `torch.nn`, `torch.optim`, `torch.data.Dataset` and `torch.data.Dataloader`. For now, let's focus on the first two and get to the other two later.\n",
        "\n",
        "|Module|What id does|\n",
        "|------|------------|\n",
        "|`torch.nn`| Contains all of the building blocks for computaional graphs(essentially a series of computations executed in a particulay way)|\n",
        "|`torch.nn.Parameter`| Stores torch tensors that can be used with `nn.Module`, <br />if requires_grad=True is set then the gradient calculauation are done automatically for this parameter. <br />This is called as autograd|\n",
        "|`torch.nn.Module`| The base class for all neural network modules, all the building block for neural networks are subclasses. <br />To build a neural network in PyTorch, the model should be a subclass and requires a `forward()` method to be implemented|\n",
        "|`torch.optim`| Contains various optimization algorithms on how to chane `nn.Parameter` to reduce loss|\n",
        "|`def forward()`| All `nn.Module` subclass requires this method and defines the computations that will take place on the data passed to the particular `nn.Module`|"
      ]
    },
    {
      "cell_type": "markdown",
      "metadata": {
        "id": "0utuqRDFi_wd"
      },
      "source": [
        "### Checking the contents of a PyTorch Model\n",
        "\n",
        "Now we've gone through the explainations of bb's let's create a model from the LinearRegression class and check it's parameters using `.parameters()`"
      ]
    },
    {
      "cell_type": "code",
      "execution_count": null,
      "metadata": {
        "colab": {
          "base_uri": "https://localhost:8080/"
        },
        "id": "b2Gr5yMVkDGz",
        "outputId": "9dca714e-c144-4f6b-da72-ac40ade9a859"
      },
      "outputs": [
        {
          "data": {
            "text/plain": [
              "[Parameter containing:\n",
              " tensor([0.3367], requires_grad=True), Parameter containing:\n",
              " tensor([0.1288], requires_grad=True)]"
            ]
          },
          "execution_count": 9,
          "metadata": {},
          "output_type": "execute_result"
        }
      ],
      "source": [
        "# set manaul seed since nn.Parameter are randomnly initialized\n",
        "torch.manual_seed(42)\n",
        "\n",
        "# Create an instance of the model\n",
        "model_0 = LinearRegressionModel()\n",
        "\n",
        "#  chek the nn.Parameter(s) within the nn.Module subclass we created\n",
        "list(model_0.parameters())"
      ]
    },
    {
      "cell_type": "markdown",
      "metadata": {
        "id": "ZykkTZA8kPZl"
      },
      "source": [
        "We can also get the state (what the model contains) using `\n",
        ".state_dict()`"
      ]
    },
    {
      "cell_type": "code",
      "execution_count": null,
      "metadata": {
        "colab": {
          "base_uri": "https://localhost:8080/"
        },
        "id": "jzeVmYNAklM_",
        "outputId": "6b90bd96-1ac7-44ab-f780-bf7dc703c8c1"
      },
      "outputs": [
        {
          "data": {
            "text/plain": [
              "OrderedDict([('weights', tensor([0.3367])), ('bias', tensor([0.1288]))])"
            ]
          },
          "execution_count": 10,
          "metadata": {},
          "output_type": "execute_result"
        }
      ],
      "source": [
        "model_0.state_dict()"
      ]
    },
    {
      "cell_type": "markdown",
      "metadata": {
        "id": "jO4kpo-plWef"
      },
      "source": [
        "Right now the parameters are randomnly intialized because of torch.randn() and these should be learned by the model and come close to hardcoded weights and bias."
      ]
    },
    {
      "cell_type": "markdown",
      "metadata": {
        "id": "1ee89gSAluEx"
      },
      "source": [
        "### Making predcition using `torch.inference_mode()`\n",
        "\n",
        "Because our model starts with random values, right now they'll have poor preditive power.\n",
        "\n",
        "Let's test this out:"
      ]
    },
    {
      "cell_type": "code",
      "execution_count": null,
      "metadata": {
        "id": "Dr2z5q5Tl595"
      },
      "outputs": [],
      "source": [
        "# Make predictions with model\n",
        "with torch.inference_mode():\n",
        "  y_preds = model_0(X_test)"
      ]
    },
    {
      "cell_type": "code",
      "execution_count": null,
      "metadata": {
        "colab": {
          "base_uri": "https://localhost:8080/"
        },
        "id": "5WNUi18KmAW2",
        "outputId": "ab5b3e07-f3ef-4186-d307-1bcfde40ce3b"
      },
      "outputs": [
        {
          "name": "stdout",
          "output_type": "stream",
          "text": [
            "Number of testing samples: 10\n",
            "Number of predictions made: 10\n",
            "Predicted values: tensor([[0.3982],\n",
            "        [0.4049],\n",
            "        [0.4116],\n",
            "        [0.4184],\n",
            "        [0.4251],\n",
            "        [0.4318],\n",
            "        [0.4386],\n",
            "        [0.4453],\n",
            "        [0.4520],\n",
            "        [0.4588]])\n"
          ]
        }
      ],
      "source": [
        "# Let's see howthe predictions looks like\n",
        "print(f\"Number of testing samples: {len(X_test)}\")\n",
        "print(f\"Number of predictions made: {len(y_preds)}\")\n",
        "print(f\"Predicted values: {y_preds}\")"
      ]
    },
    {
      "cell_type": "code",
      "execution_count": null,
      "metadata": {
        "colab": {
          "base_uri": "https://localhost:8080/",
          "height": 428
        },
        "id": "qzyw2qIHmVsg",
        "outputId": "85ec6a7b-4248-463d-8857-23852978597a"
      },
      "outputs": [
        {
          "data": {
            "image/png": "[encoded data removed]",
            "text/plain": [
              "<Figure size 720x504 with 1 Axes>"
            ]
          },
          "metadata": {
            "needs_background": "light"
          },
          "output_type": "display_data"
        }
      ],
      "source": [
        "# Let's plot the predictions\n",
        "plot_predictions(predictions=y_preds)"
      ]
    },
    {
      "cell_type": "code",
      "execution_count": null,
      "metadata": {
        "colab": {
          "base_uri": "https://localhost:8080/"
        },
        "id": "ufYUIShzm-NN",
        "outputId": "499f1cf0-f26a-4886-df8e-6f2bd92d208d"
      },
      "outputs": [
        {
          "data": {
            "text/plain": [
              "tensor([[0.4618],\n",
              "        [0.4691],\n",
              "        [0.4764],\n",
              "        [0.4836],\n",
              "        [0.4909],\n",
              "        [0.4982],\n",
              "        [0.5054],\n",
              "        [0.5127],\n",
              "        [0.5200],\n",
              "        [0.5272]])"
            ]
          },
          "execution_count": 14,
          "metadata": {},
          "output_type": "execute_result"
        }
      ],
      "source": [
        "y_test-y_preds"
      ]
    },
    {
      "cell_type": "markdown",
      "metadata": {
        "id": "bHZq-jIenBQv"
      },
      "source": [
        "These predictions looks pretty bad, This makes sense as the model has yet to take a look at train data(blue dots) and just predicts with randomly initiated weights and bias(params)\n",
        "\n",
        "Let's change that."
      ]
    },
    {
      "cell_type": "markdown",
      "metadata": {
        "id": "FFL-7j7qnRhs"
      },
      "source": [
        "## 3. Train model\n",
        "\n",
        "Right now our model is making predictions using random parameters to make calculations, it's basically guessing(randomly).\n",
        "\n",
        "Let's write code to see if the model can try and figure them out myself."
      ]
    },
    {
      "cell_type": "markdown",
      "metadata": {
        "id": "coJyGdChU9gt"
      },
      "source": [
        "### Creating a loss function and optimizer in PyTorch\n",
        "\n",
        "For our model to update its parameters on its own, we'll add **loss function** as well as an **optimizer**.\n",
        "\n",
        "* **Loss function** - Measures how wrong your models predictions are compared to the truth labels. Lower the better. PyTorch has plenty of built-in loss functions in `torch.nn`\n",
        "\n",
        "* **Optimizer** - Tells how the model to update its internal parameters to best lower the loss. Optimizer function implementations in `torch.optim`\n",
        "\n",
        "Since we're predicting a number, let's use MAE(which is under torch.nn.L1Loss()) in PyTorch as our loss function."
      ]
    },
    {
      "cell_type": "markdown",
      "metadata": {
        "id": "1MRimn0WVQW2"
      },
      "source": [
        "Mean absolute error(MAE, in PyTorch: `torch.nn.L1Loss`) measures the absolute difference between two points(predictions and labels) and then takes mean across all examples.\n",
        "\n",
        "And use `torch.optim.SGD(params,lr)` where:\n",
        "\n",
        "* `params` is the target model parameters to optimize(e.g weights and bias values we randomly set before)\n",
        "\n",
        "* `lr` is the Learning rate to update the paramters at, higher means optimizer will try larger updates and lower means smaller updates."
      ]
    },
    {
      "cell_type": "code",
      "execution_count": null,
      "metadata": {
        "id": "jPo98t0uXIFG"
      },
      "outputs": [],
      "source": [
        "# Create loss function\n",
        "loss_fn = nn.L1Loss()\n",
        "\n",
        "# Create optimizer\n",
        "optimizer = torch.optim.SGD(\n",
        "    params=model_0.parameters(),\n",
        "    lr=0.01\n",
        ")"
      ]
    },
    {
      "cell_type": "markdown",
      "metadata": {
        "id": "BPVTwarfXWCc"
      },
      "source": [
        "### Creating an optimization loop in PyTorch\n",
        "\n",
        "Now we've a loss function and an optimizer, let's create a **raining loop** and **testing loop**.\n",
        "\n",
        "The training loop involves the model going through the training data and learning relationships between the `features` and `labels`.\n",
        "\n",
        "The testing involves going through the testing data and evaluating how good the patters are that the model learned on the training data."
      ]
    },
    {
      "cell_type": "code",
      "execution_count": null,
      "metadata": {
        "colab": {
          "base_uri": "https://localhost:8080/"
        },
        "id": "3Fpkc5q8Zfuq",
        "outputId": "5439eda9-d70f-47e0-98e4-87a25db4da3c"
      },
      "outputs": [
        {
          "name": "stdout",
          "output_type": "stream",
          "text": [
            "Epoch: 0 | MAE Train Loss: 0.31288138031959534 | MAE Test Loss: 0.48106518387794495\n",
            "Epoch: 10 | MAE Train Loss: 0.1976713240146637 | MAE Test Loss: 0.3463551998138428\n",
            "Epoch: 20 | MAE Train Loss: 0.08908725529909134 | MAE Test Loss: 0.21729660034179688\n",
            "Epoch: 30 | MAE Train Loss: 0.053148526698350906 | MAE Test Loss: 0.14464017748832703\n",
            "Epoch: 40 | MAE Train Loss: 0.04543796554207802 | MAE Test Loss: 0.11360953003168106\n",
            "Epoch: 50 | MAE Train Loss: 0.04167863354086876 | MAE Test Loss: 0.09919948130846024\n",
            "Epoch: 60 | MAE Train Loss: 0.03818932920694351 | MAE Test Loss: 0.08886633068323135\n",
            "Epoch: 70 | MAE Train Loss: 0.03476089984178543 | MAE Test Loss: 0.0805937647819519\n",
            "Epoch: 80 | MAE Train Loss: 0.03132382780313492 | MAE Test Loss: 0.07232122868299484\n",
            "Epoch: 90 | MAE Train Loss: 0.02788739837706089 | MAE Test Loss: 0.06473556160926819\n"
          ]
        }
      ],
      "source": [
        "torch.manual_seed(42)\n",
        "\n",
        "epochs = 100\n",
        "\n",
        "train_loss_values = []\n",
        "test_loss_values = []\n",
        "epoch_count = []\n",
        "\n",
        "for epoch in range(epochs):\n",
        "  # Training\n",
        "\n",
        "  # Put model in training mode(this is the default state of the model)\n",
        "  model_0.train()\n",
        "\n",
        "  # 1. Forward pass on train data using the forward() method inside\n",
        "  y_pred = model_0(X_train)\n",
        "\n",
        "  # 2. Calculate loss\n",
        "  loss = loss_fn(y_pred, y_train)\n",
        "\n",
        "  # 3. Zero grad the optimizer\n",
        "  optimizer.zero_grad()\n",
        "\n",
        "  # 4. Loss backwards\n",
        "  loss.backward()\n",
        "\n",
        "  # 5. Progress the optimizer\n",
        "  optimizer.step()\n",
        "\n",
        "  ### Testing\n",
        "\n",
        "  # Put the model in evaluation mode\n",
        "  model_0.eval()\n",
        "\n",
        "  with torch.inference_mode():\n",
        "    # 1. Forward pass on test_data\n",
        "    test_pred = model_0(X_test)\n",
        "\n",
        "    # 2. Calculate loss on test data\n",
        "    test_loss = loss_fn(test_pred, y_test.type(torch.float))\n",
        "\n",
        "    # Print out what's happening\n",
        "    if epoch % 10 == 0:\n",
        "      epoch_count.append(epoch)\n",
        "      train_loss_values.append(loss.detach().numpy())\n",
        "      test_loss_values.append(test_loss.detach().numpy())\n",
        "      print(f\"Epoch: {epoch} | MAE Train Loss: {loss} | MAE Test Loss: {test_loss}\")"
      ]
    },
    {
      "cell_type": "markdown",
      "metadata": {
        "id": "8ZmDPE-MK-2J"
      },
      "source": [
        "Looks like loss is going down with every epoch, let's plot it to find out:"
      ]
    },
    {
      "cell_type": "code",
      "execution_count": null,
      "metadata": {
        "colab": {
          "base_uri": "https://localhost:8080/",
          "height": 295
        },
        "id": "5gGN89wtLTMY",
        "outputId": "177f8144-10c1-4cd8-dca3-d3ecb2f636a8"
      },
      "outputs": [
        {
          "data": {
            "image/png": "[encoded data removed]",
            "text/plain": [
              "<Figure size 432x288 with 1 Axes>"
            ]
          },
          "metadata": {
            "needs_background": "light"
          },
          "output_type": "display_data"
        }
      ],
      "source": [
        "# Plot the loss curves\n",
        "plt.plot(epoch_count, train_loss_values, label=\"Train loss\")\n",
        "plt.plot(epoch_count, test_loss_values, label=\"Test loss\")\n",
        "plt.title(\"Training and test loss curves\")\n",
        "plt.ylabel(\"Loss\")\n",
        "plt.xlabel(\"Epoch\")\n",
        "plt.legend()\n",
        "plt.show();"
      ]
    },
    {
      "cell_type": "markdown",
      "metadata": {
        "id": "N11FR0okLwvp"
      },
      "source": [
        "Now the **loss curves** are going down, why because we're performing backpropogation from forward pass(loss calulations) using loss.backwards() to the starting point of forward pass and calculating the gradient for the weight and bias. Then optimizer uses this to step in the direction opposite of gradient to reduce the loss and updated the weight and bias with x time learning rate."
      ]
    },
    {
      "cell_type": "markdown",
      "metadata": {
        "id": "9xPU_oGEORL8"
      },
      "source": [
        "Let's inspect our model's `.state_dict()` to see how close our model gets to the original values we set for weights and bias."
      ]
    },
    {
      "cell_type": "code",
      "execution_count": null,
      "metadata": {
        "colab": {
          "base_uri": "https://localhost:8080/"
        },
        "id": "jVsMdNFq_6QE",
        "outputId": "d57f04ce-f816-4297-ade4-5ea6dadf82ef"
      },
      "outputs": [
        {
          "name": "stdout",
          "output_type": "stream",
          "text": [
            "The model learned the following values for weights and bias:\n",
            "OrderedDict([('weights', tensor([0.5784])), ('bias', tensor([0.3513]))])\n",
            "\n",
            "And the original values for weight and bias are:\n",
            "Weights: 0.7, bias: 0.3\n"
          ]
        }
      ],
      "source": [
        "# Find model's learned parameters\n",
        "print(\"The model learned the following values for weights and bias:\")\n",
        "print(model_0.state_dict())\n",
        "print(\"\\nAnd the original values for weight and bias are:\")\n",
        "print(f\"Weights: {weight}, bias: {bias}\")"
      ]
    },
    {
      "cell_type": "markdown",
      "metadata": {
        "id": "gxwsxskNAOWD"
      },
      "source": [
        "Look at that model has learned and leaned closer to actual values of params, let's train this for 200 epochs and see how close it gets:"
      ]
    },
    {
      "cell_type": "code",
      "execution_count": null,
      "metadata": {
        "colab": {
          "base_uri": "https://localhost:8080/"
        },
        "id": "30wuY0fhAp7T",
        "outputId": "6a515be3-9a38-4b5c-fac2-f9590871b34e"
      },
      "outputs": [
        {
          "name": "stdout",
          "output_type": "stream",
          "text": [
            "Epoch: 0 | MAE Train Loss: 0.024458957836031914 | MAE Test Loss: 0.05646304413676262 \n",
            "Epoch: 10 | MAE Train Loss: 0.021020207554101944 | MAE Test Loss: 0.04819049686193466 \n",
            "Epoch: 20 | MAE Train Loss: 0.01758546568453312 | MAE Test Loss: 0.04060482233762741 \n",
            "Epoch: 30 | MAE Train Loss: 0.014155393466353416 | MAE Test Loss: 0.03233227878808975 \n",
            "Epoch: 40 | MAE Train Loss: 0.010716589167714119 | MAE Test Loss: 0.024059748277068138 \n",
            "Epoch: 50 | MAE Train Loss: 0.0072835334576666355 | MAE Test Loss: 0.016474086791276932 \n",
            "Epoch: 60 | MAE Train Loss: 0.0038517764769494534 | MAE Test Loss: 0.008201557211577892 \n",
            "Epoch: 70 | MAE Train Loss: 0.008932482451200485 | MAE Test Loss: 0.005023092031478882 \n",
            "Epoch: 80 | MAE Train Loss: 0.008932482451200485 | MAE Test Loss: 0.005023092031478882 \n",
            "Epoch: 90 | MAE Train Loss: 0.008932482451200485 | MAE Test Loss: 0.005023092031478882 \n",
            "Epoch: 100 | MAE Train Loss: 0.008932482451200485 | MAE Test Loss: 0.005023092031478882 \n",
            "Epoch: 110 | MAE Train Loss: 0.008932482451200485 | MAE Test Loss: 0.005023092031478882 \n",
            "Epoch: 120 | MAE Train Loss: 0.008932482451200485 | MAE Test Loss: 0.005023092031478882 \n",
            "Epoch: 130 | MAE Train Loss: 0.008932482451200485 | MAE Test Loss: 0.005023092031478882 \n",
            "Epoch: 140 | MAE Train Loss: 0.008932482451200485 | MAE Test Loss: 0.005023092031478882 \n",
            "Epoch: 150 | MAE Train Loss: 0.008932482451200485 | MAE Test Loss: 0.005023092031478882 \n",
            "Epoch: 160 | MAE Train Loss: 0.008932482451200485 | MAE Test Loss: 0.005023092031478882 \n",
            "Epoch: 170 | MAE Train Loss: 0.008932482451200485 | MAE Test Loss: 0.005023092031478882 \n",
            "Epoch: 180 | MAE Train Loss: 0.008932482451200485 | MAE Test Loss: 0.005023092031478882 \n",
            "Epoch: 190 | MAE Train Loss: 0.008932482451200485 | MAE Test Loss: 0.005023092031478882 \n"
          ]
        }
      ],
      "source": [
        "torch.manual_seed(42)\n",
        "\n",
        "# Set the number of epochs for model to train\n",
        "epochs = 200\n",
        "\n",
        "# Loss lists to track values\n",
        "train_loss_values = []\n",
        "test_loss_values = []\n",
        "epoch_count = []\n",
        "\n",
        "for epoch in range(epochs):\n",
        "\n",
        "  ### Training\n",
        "\n",
        "  # Put the model in training model\n",
        "  model_0.train()\n",
        "\n",
        "  # 1. Calculate the forward pass\n",
        "  y_pred = model_0(X_train)\n",
        "\n",
        "  # 2. Calculate the loss\n",
        "  loss = loss_fn(y_pred, y_train)\n",
        "\n",
        "  # 3. Zero grad optimizer\n",
        "  optimizer.zero_grad()\n",
        "\n",
        "  # 4. Loss backwards\n",
        "  loss.backward()\n",
        "\n",
        "  # 5. Progress the optimizer(gradient descent)\n",
        "  optimizer.step()\n",
        "\n",
        "  ### Testing\n",
        "\n",
        "  # put the model in eval mode\n",
        "  model_0.eval()\n",
        "\n",
        "  with torch.inference_mode():\n",
        "\n",
        "    # 1. Forward pass on test data\n",
        "    test_pred = model_0(X_test)\n",
        "\n",
        "    # 2. Calculate loss on test data\n",
        "    test_loss = loss_fn(test_pred, y_test.type(torch.float))\n",
        "\n",
        "    # Print what's happening\n",
        "    if epoch % 10 == 0:\n",
        "      epoch_count.append(epoch)\n",
        "      train_loss_values.append(loss.detach().numpy())\n",
        "      test_loss_values.append(test_loss.detach().numpy())\n",
        "      print(f\"Epoch: {epoch} | MAE Train Loss: {loss} | MAE Test Loss: {test_loss} \")"
      ]
    },
    {
      "cell_type": "code",
      "execution_count": null,
      "metadata": {
        "colab": {
          "base_uri": "https://localhost:8080/"
        },
        "id": "5FL7E4UjByFM",
        "outputId": "9ddddb84-5e46-4634-bd74-6eaddaaebb5e"
      },
      "outputs": [
        {
          "data": {
            "text/plain": [
              "0"
            ]
          },
          "execution_count": 19,
          "metadata": {},
          "output_type": "execute_result"
        }
      ],
      "source": [
        "200 % 20"
      ]
    },
    {
      "cell_type": "code",
      "execution_count": null,
      "metadata": {
        "colab": {
          "base_uri": "https://localhost:8080/",
          "height": 265
        },
        "id": "1HcLK5rbBzIy",
        "outputId": "df349289-bd82-4e88-a1c3-ccf2760616b0"
      },
      "outputs": [
        {
          "data": {
            "image/png": "[encoded data removed]",
            "text/plain": [
              "<Figure size 432x288 with 1 Axes>"
            ]
          },
          "metadata": {
            "needs_background": "light"
          },
          "output_type": "display_data"
        }
      ],
      "source": [
        "# Plotting the loss for 200 epochs\n",
        "plt.plot(epoch_count, train_loss_values, label=\"train\")\n",
        "plt.plot(epoch_count, test_loss_values, label=\"test\")\n",
        "plt.legend();"
      ]
    },
    {
      "cell_type": "code",
      "execution_count": null,
      "metadata": {
        "colab": {
          "base_uri": "https://localhost:8080/"
        },
        "id": "13AtCAlCCL_w",
        "outputId": "675fcc38-3a90-48b2-defa-011f492ce6d6"
      },
      "outputs": [
        {
          "name": "stdout",
          "output_type": "stream",
          "text": [
            "The model learned the following values for weights and bias:\n",
            "OrderedDict([('weights', tensor([0.6990])), ('bias', tensor([0.3093]))])\n",
            "\n",
            "And the original values for weight and bias are:\n",
            "Weights: 0.7, bias: 0.3\n"
          ]
        }
      ],
      "source": [
        "# Find model's learned parameters\n",
        "print(\"The model learned the following values for weights and bias:\")\n",
        "print(model_0.state_dict())\n",
        "print(\"\\nAnd the original values for weight and bias are:\")\n",
        "print(f\"Weights: {weight}, bias: {bias}\")"
      ]
    },
    {
      "cell_type": "markdown",
      "metadata": {
        "id": "jkkQmFa9CXJ2"
      },
      "source": [
        "Ah that's good"
      ]
    },
    {
      "cell_type": "markdown",
      "metadata": {
        "id": "13KOVF_-CaMP"
      },
      "source": [
        "## 4. Making predictions with a trained PyTorch Model\n",
        "\n",
        "Now we've got a trained model, let's make some predictions with it:\n",
        "\n",
        "There are three things to remember when making predictions(also called performing inference) with a PyTorch model:\n",
        "\n",
        "1. Set the model in evaluation mode(`model.eval()`)\n",
        "2. Make predictions using the inference mode context manager(`with torch.inference_mode()`)\n",
        "3. All predictions should be made with objects on the same device(e.g. data and model on GPU only or data and model on CPU only)\n",
        "\n",
        "First two makes sure all helpful calculations and setting PyTorch uses behind the scenes during training but aren't necessay for inference re turned off(resulting in faster computation). And the third ensures not running into cross-device errors."
      ]
    },
    {
      "cell_type": "code",
      "execution_count": null,
      "metadata": {
        "colab": {
          "base_uri": "https://localhost:8080/"
        },
        "id": "AXS528INEqqP",
        "outputId": "1d30996e-fe6f-451d-8a10-7c3c9fdfee7c"
      },
      "outputs": [
        {
          "data": {
            "text/plain": [
              "tensor([[0.8685],\n",
              "        [0.8825],\n",
              "        [0.8965],\n",
              "        [0.9105],\n",
              "        [0.9245],\n",
              "        [0.9384],\n",
              "        [0.9524],\n",
              "        [0.9664],\n",
              "        [0.9804],\n",
              "        [0.9944]])"
            ]
          },
          "execution_count": 27,
          "metadata": {},
          "output_type": "execute_result"
        }
      ],
      "source": [
        "# 1. Set the model in evaluation mode\n",
        "model_0.eval()\n",
        "\n",
        "# 2. Setup the inference mode context manager\n",
        "with torch.inference_mode():\n",
        "  y_preds = model_0(X_test)\n",
        "y_preds"
      ]
    },
    {
      "cell_type": "code",
      "execution_count": null,
      "metadata": {
        "colab": {
          "base_uri": "https://localhost:8080/",
          "height": 428
        },
        "id": "vuxSSmRLE42_",
        "outputId": "f9c1937a-8aef-43b9-8200-30b2e6bbc345"
      },
      "outputs": [
        {
          "data": {
            "image/png": "[encoded data removed]",
            "text/plain": [
              "<Figure size 720x504 with 1 Axes>"
            ]
          },
          "metadata": {
            "needs_background": "light"
          },
          "output_type": "display_data"
        }
      ],
      "source": [
        "# LEt's plot the predictions\n",
        "plot_predictions(predictions=y_preds)"
      ]
    },
    {
      "cell_type": "markdown",
      "metadata": {
        "id": "vS3WjX-fE9-w"
      },
      "source": [
        "The predictions(red dots) looking far closer than before!"
      ]
    },
    {
      "cell_type": "markdown",
      "metadata": {
        "id": "eSYjZUlCFFIZ"
      },
      "source": [
        "## 5. Saving and loading a PyTorch model\n",
        "\n",
        "To use the model outside a notebook in an application or something else. we need to save the model.\n",
        "\n",
        "For saving models in PyTorch, there are three main methods \n",
        "\n",
        "1. `torch.save` - Saves a serialized object to disk using Python's pickle utility. Models, tensors and various other python objects like dictionaries can be saved using `torch.save`\n",
        "\n",
        "2. `torch.load` - Uses pickles unpickling features to deserialize and load pickled python object files into memory\n",
        "\n",
        "3. `torch.nn.Module.load_state_dict` - Loads a models parameter dictionary using a saved `state_dict()` object\n",
        "\n"
      ]
    },
    {
      "cell_type": "markdown",
      "metadata": {
        "id": "jFXJSiO0H7Ni"
      },
      "source": [
        "### Saving a PyTorch model's `state_dict()`\n",
        "\n",
        "Recommended way for saving and loading a model for inference (making prediction) is by saving and loading a model's `state_dict()`\n",
        "\n",
        "Steps to do that:\n",
        "\n",
        "1. Create a directory for saving `models` using Python's `pathlib` module\n",
        "\n",
        "2. Create a file path to save the model to\n",
        "\n",
        "3. Call `torch.save(obj, f)` where obj is target model's state_dict and f is the filename of where to save the model."
      ]
    },
    {
      "cell_type": "code",
      "execution_count": null,
      "metadata": {
        "colab": {
          "base_uri": "https://localhost:8080/"
        },
        "id": "cUf3cKz-IgLU",
        "outputId": "65178dbd-e50b-4e8f-eb4c-8948c4647fba"
      },
      "outputs": [
        {
          "name": "stdout",
          "output_type": "stream",
          "text": [
            "Saving model to: models/workflow_model.pth\n"
          ]
        }
      ],
      "source": [
        "from pathlib import Path\n",
        "\n",
        "# 1. Create model directory\n",
        "MODEL_PATH = Path(\"models\")\n",
        "MODEL_PATH.mkdir(parents=True, exist_ok=True)\n",
        "\n",
        "# 2. Create model save path\n",
        "MODEL_NAME = \"workflow_model.pth\"\n",
        "MODEL_SAVE_PATH = MODEL_PATH / MODEL_NAME\n",
        "\n",
        "# 3. Save the model state dict\n",
        "print(f\"Saving model to: {MODEL_SAVE_PATH}\")\n",
        "torch.save(obj=model_0.state_dict(),\n",
        "           f=MODEL_SAVE_PATH)"
      ]
    },
    {
      "cell_type": "markdown",
      "metadata": {
        "id": "caYu3j-dJBg2"
      },
      "source": [
        "### Loading a saved PyTorch model's state_dict()"
      ]
    },
    {
      "cell_type": "code",
      "execution_count": null,
      "metadata": {
        "colab": {
          "base_uri": "https://localhost:8080/"
        },
        "id": "QtB9syaXJZTr",
        "outputId": "95f663e3-1b9a-4d9c-a397-5c13dd0c262a"
      },
      "outputs": [
        {
          "data": {
            "text/plain": [
              "<All keys matched successfully>"
            ]
          },
          "execution_count": 30,
          "metadata": {},
          "output_type": "execute_result"
        }
      ],
      "source": [
        "# 1. Create a new instance of our model\n",
        "loaded_model_0 = LinearRegressionModel() # Instantiated with random weights\n",
        "\n",
        "# 2. Load the state_dict(weights) of saved model\n",
        "loaded_model_0.load_state_dict(torch.load(f=MODEL_SAVE_PATH))"
      ]
    },
    {
      "cell_type": "code",
      "execution_count": null,
      "metadata": {
        "id": "ZLwrNHFiJpxV"
      },
      "outputs": [],
      "source": [
        "# Make some inference with loaded model\n",
        "loaded_model_0.eval()\n",
        "\n",
        "with torch.inference_mode():\n",
        "  loaded_model_preds = loaded_model_0(X_test)"
      ]
    },
    {
      "cell_type": "code",
      "execution_count": null,
      "metadata": {
        "colab": {
          "base_uri": "https://localhost:8080/"
        },
        "id": "bv-xHKotJ6cd",
        "outputId": "d3e5f903-1399-4b90-be59-9cdd962ec97a"
      },
      "outputs": [
        {
          "data": {
            "text/plain": [
              "tensor([[True],\n",
              "        [True],\n",
              "        [True],\n",
              "        [True],\n",
              "        [True],\n",
              "        [True],\n",
              "        [True],\n",
              "        [True],\n",
              "        [True],\n",
              "        [True]])"
            ]
          },
          "execution_count": 33,
          "metadata": {},
          "output_type": "execute_result"
        }
      ],
      "source": [
        "loaded_model_preds == y_preds"
      ]
    },
    {
      "cell_type": "markdown",
      "metadata": {
        "id": "_ch7SjloKWWb"
      },
      "source": [
        "## 6. Putting it all together\n",
        "\n",
        "Let's do all the steps in the workflow and make our code device agnostic"
      ]
    },
    {
      "cell_type": "code",
      "execution_count": null,
      "metadata": {
        "colab": {
          "base_uri": "https://localhost:8080/",
          "height": 36
        },
        "id": "m1V_RoJyLAb8",
        "outputId": "24766a87-865c-43f3-ae60-20127d910918"
      },
      "outputs": [
        {
          "data": {
            "application/vnd.google.colaboratory.intrinsic+json": {
              "type": "string"
            },
            "text/plain": [
              "'1.12.0+cu113'"
            ]
          },
          "execution_count": 1,
          "metadata": {},
          "output_type": "execute_result"
        }
      ],
      "source": [
        "# Import Pytorch and matplotlib\n",
        "import torch\n",
        "from torch import nn \n",
        "import matplotlib.pyplot as plt\n",
        "\n",
        "torch.__version__"
      ]
    },
    {
      "cell_type": "code",
      "execution_count": null,
      "metadata": {
        "colab": {
          "base_uri": "https://localhost:8080/"
        },
        "id": "nKT_FalkLMmY",
        "outputId": "24d35ce4-d6e7-4525-93c4-6111b04cf6ac"
      },
      "outputs": [
        {
          "name": "stdout",
          "output_type": "stream",
          "text": [
            "Using device: cuda\n"
          ]
        }
      ],
      "source": [
        "# Let's make the code agnostic\n",
        "device = \"cuda\" if torch.cuda.is_available() else \"cpu\"\n",
        "print(f\"Using device: {device}\")"
      ]
    },
    {
      "cell_type": "markdown",
      "metadata": {
        "id": "Ipl1fOfRLVYF"
      },
      "source": [
        "### 6.1 Data"
      ]
    },
    {
      "cell_type": "code",
      "execution_count": null,
      "metadata": {
        "colab": {
          "base_uri": "https://localhost:8080/"
        },
        "id": "Yw9QBa94LdMg",
        "outputId": "27a894b9-23f3-450d-a819-03d151986bf6"
      },
      "outputs": [
        {
          "data": {
            "text/plain": [
              "(tensor([[0.0000],\n",
              "         [0.0200],\n",
              "         [0.0400],\n",
              "         [0.0600],\n",
              "         [0.0800],\n",
              "         [0.1000],\n",
              "         [0.1200],\n",
              "         [0.1400],\n",
              "         [0.1600],\n",
              "         [0.1800]]), tensor([[0.3000],\n",
              "         [0.3140],\n",
              "         [0.3280],\n",
              "         [0.3420],\n",
              "         [0.3560],\n",
              "         [0.3700],\n",
              "         [0.3840],\n",
              "         [0.3980],\n",
              "         [0.4120],\n",
              "         [0.4260]]))"
            ]
          },
          "execution_count": 24,
          "metadata": {},
          "output_type": "execute_result"
        }
      ],
      "source": [
        "# Create weight and bias\n",
        "weight = 0.7\n",
        "bias = 0.3\n",
        "\n",
        "# Create range values\n",
        "start = 0\n",
        "end = 1\n",
        "step = 0.02\n",
        "\n",
        "# Create X and y (Features and labels)\n",
        "X = torch.arange(start, end, step).unsqueeze(dim=1)\n",
        "\n",
        "y = weight * X + bias\n",
        "X[:10], y[:10]"
      ]
    },
    {
      "cell_type": "markdown",
      "metadata": {
        "id": "JHdPnfMVLvlI"
      },
      "source": [
        "Let's split the data"
      ]
    },
    {
      "cell_type": "code",
      "execution_count": null,
      "metadata": {
        "id": "ZaTZo0DFL5Gl"
      },
      "outputs": [],
      "source": [
        "# Split the data\n",
        "train_split = int(0.8 * len(X))\n",
        "X_train, y_train = X[:train_split], y[:train_split]\n",
        "X_test, y_test = X[train_split:], y[train_split:]"
      ]
    },
    {
      "cell_type": "code",
      "execution_count": null,
      "metadata": {
        "colab": {
          "base_uri": "https://localhost:8080/"
        },
        "id": "n19dQmEGMEMB",
        "outputId": "5444bcf9-b9ec-491c-b1ce-59abf952355e"
      },
      "outputs": [
        {
          "data": {
            "text/plain": [
              "(40, 40, 10, 10)"
            ]
          },
          "execution_count": 8,
          "metadata": {},
          "output_type": "execute_result"
        }
      ],
      "source": [
        "len(X_train), len(y_train), len(X_test), len(y_test)"
      ]
    },
    {
      "cell_type": "code",
      "execution_count": null,
      "metadata": {
        "colab": {
          "base_uri": "https://localhost:8080/",
          "height": 428
        },
        "id": "-iR-4zaEMHtT",
        "outputId": "55345732-ae0f-4cdc-a8f2-9349bcc7580d"
      },
      "outputs": [
        {
          "data": {
            "image/png": "[encoded data removed]",
            "text/plain": [
              "<Figure size 720x504 with 1 Axes>"
            ]
          },
          "metadata": {
            "needs_background": "light"
          },
          "output_type": "display_data"
        }
      ],
      "source": [
        "plot_predictions(X_train, y_train, X_test, y_test)"
      ]
    },
    {
      "cell_type": "markdown",
      "metadata": {
        "id": "rMrBesj2MMy_"
      },
      "source": [
        "### 6.2 Building a PyTorch linear model\n",
        "\n",
        "We've got some data, now it's time to make a model.\n",
        "\n",
        "We'll create the same style of model as before except this time, instead of defining the weight and bias parameters of our model manually using `nn.Parameter()` we'll use `nn.Linear(in_features, out_features)` to do it for us."
      ]
    },
    {
      "cell_type": "code",
      "execution_count": null,
      "metadata": {
        "colab": {
          "base_uri": "https://localhost:8080/"
        },
        "id": "mhqHDRRuMtei",
        "outputId": "d683c1de-77df-44df-833a-2f9cbaea0ccc"
      },
      "outputs": [
        {
          "data": {
            "text/plain": [
              "(LinearRegressionModelV2(\n",
              "   (linear_layer): Linear(in_features=1, out_features=1, bias=True)\n",
              " ),\n",
              " OrderedDict([('linear_layer.weight', tensor([[0.7645]])),\n",
              "              ('linear_layer.bias', tensor([0.8300]))]))"
            ]
          },
          "execution_count": 13,
          "metadata": {},
          "output_type": "execute_result"
        }
      ],
      "source": [
        "# Subclass nn.Module to make our model\n",
        "class LinearRegressionModelV2(nn.Module):\n",
        "  def __init__(self):\n",
        "    super().__init__()\n",
        "    self.linear_layer = nn.Linear(in_features=1,\n",
        "                                  out_features=1)\n",
        "    \n",
        "  def forward(self, x: torch.Tensor) -> torch.Tensor:\n",
        "    return self.linear_layer(x)\n",
        "\n",
        "# Set manaul seed\n",
        "torch.manual_seed(42)\n",
        "model_1 = LinearRegressionModelV2()\n",
        "model_1, model_1.state_dict()"
      ]
    },
    {
      "cell_type": "code",
      "execution_count": null,
      "metadata": {
        "colab": {
          "base_uri": "https://localhost:8080/"
        },
        "id": "SA4TipbONTQu",
        "outputId": "5ddd6447-a529-47bc-f861-53e8357d60ab"
      },
      "outputs": [
        {
          "data": {
            "text/plain": [
              "device(type='cpu')"
            ]
          },
          "execution_count": 14,
          "metadata": {},
          "output_type": "execute_result"
        }
      ],
      "source": [
        "# Check model's current device\n",
        "next(model_1.parameters()).device"
      ]
    },
    {
      "cell_type": "markdown",
      "metadata": {
        "id": "6wdpbMMuNj3s"
      },
      "source": [
        "Looks like model's on CPU by default\n",
        "Let's change it to be in GPU (if it's available)"
      ]
    },
    {
      "cell_type": "code",
      "execution_count": null,
      "metadata": {
        "colab": {
          "base_uri": "https://localhost:8080/"
        },
        "id": "iPjPS_p6NsF3",
        "outputId": "eb56d53f-e6b4-4fd6-b898-831d5bc10ee9"
      },
      "outputs": [
        {
          "data": {
            "text/plain": [
              "LinearRegressionModelV2(\n",
              "  (linear_layer): Linear(in_features=1, out_features=1, bias=True)\n",
              ")"
            ]
          },
          "execution_count": 15,
          "metadata": {},
          "output_type": "execute_result"
        }
      ],
      "source": [
        "model_1.to(device)"
      ]
    },
    {
      "cell_type": "code",
      "execution_count": null,
      "metadata": {
        "colab": {
          "base_uri": "https://localhost:8080/"
        },
        "id": "X366VoKDNtg1",
        "outputId": "f3b8b0d9-1b5b-4990-a8f4-1e7c580c0899"
      },
      "outputs": [
        {
          "data": {
            "text/plain": [
              "device(type='cuda', index=0)"
            ]
          },
          "execution_count": 16,
          "metadata": {},
          "output_type": "execute_result"
        }
      ],
      "source": [
        "next(model_1.parameters()).device"
      ]
    },
    {
      "cell_type": "markdown",
      "metadata": {
        "id": "vaD80Wb1NuZ-"
      },
      "source": [
        "### 6.3 Training\n",
        "\n",
        "Time to build a training and testing loop. \n",
        "\n",
        "First we'll need an loss function and optimizer"
      ]
    },
    {
      "cell_type": "code",
      "execution_count": null,
      "metadata": {
        "id": "qQiXtdsROGT_"
      },
      "outputs": [],
      "source": [
        "# Create loss function\n",
        "loss_fn = nn.L1Loss()\n",
        "\n",
        "# Create optimizer\n",
        "optimizer = torch.optim.SGD(\n",
        "    params=model_1.parameters(),\n",
        "    lr=0.01\n",
        ")"
      ]
    },
    {
      "cell_type": "markdown",
      "metadata": {
        "id": "fy8xP46MOQhz"
      },
      "source": [
        "Nice! We've already put our model in GPU , let's do the same with data."
      ]
    },
    {
      "cell_type": "code",
      "execution_count": null,
      "metadata": {
        "colab": {
          "base_uri": "https://localhost:8080/"
        },
        "id": "NV55TTnVObBr",
        "outputId": "4671b423-dc00-4d9f-96d0-db95e4989c47"
      },
      "outputs": [
        {
          "name": "stdout",
          "output_type": "stream",
          "text": [
            "Epoch: 0 | Train loss: 0.5436570048332214 | Test loss: 0.560505211353302\n",
            "Epoch: 100 | Train loss: 0.005878167692571878 | Test loss: 0.012984705157577991\n",
            "Epoch: 200 | Train loss: 0.010256479494273663 | Test loss: 0.00033081771107390523\n",
            "Epoch: 300 | Train loss: 0.010256479494273663 | Test loss: 0.00033081771107390523\n",
            "Epoch: 400 | Train loss: 0.010256479494273663 | Test loss: 0.00033081771107390523\n",
            "Epoch: 500 | Train loss: 0.010256479494273663 | Test loss: 0.00033081771107390523\n",
            "Epoch: 600 | Train loss: 0.010256479494273663 | Test loss: 0.00033081771107390523\n",
            "Epoch: 700 | Train loss: 0.010256479494273663 | Test loss: 0.00033081771107390523\n",
            "Epoch: 800 | Train loss: 0.010256479494273663 | Test loss: 0.00033081771107390523\n",
            "Epoch: 900 | Train loss: 0.010256479494273663 | Test loss: 0.00033081771107390523\n"
          ]
        }
      ],
      "source": [
        "torch.manual_seed(42)\n",
        "\n",
        "epochs = 1000\n",
        "\n",
        "X_train = X_train.to(device)\n",
        "X_test = X_test.to(device)\n",
        "y_train = y_train.to(device)\n",
        "y_test = y_test.to(device)\n",
        "\n",
        "for epoch in range(epochs):\n",
        "\n",
        "  ### Training\n",
        "  model_1.train()\n",
        "\n",
        "  # 1. Forward pass\n",
        "  y_preds = model_1(X_train)\n",
        "\n",
        "  # 2. Loss\n",
        "  loss = loss_fn(y_preds, y_train)\n",
        "\n",
        "  # 3. Reset optimizer gradient\n",
        "  optimizer.zero_grad()\n",
        "\n",
        "  # 4. Backward propogation\n",
        "  loss.backward()\n",
        "\n",
        "  # 5. Optimizr step\n",
        "  optimizer.step()\n",
        "\n",
        "  ### Testing\n",
        "\n",
        "  model_1.eval()\n",
        "\n",
        "  with torch.inference_mode():\n",
        "    test_preds = model_1(X_test)\n",
        "\n",
        "    test_loss = loss_fn(test_preds, y_test)\n",
        "\n",
        "    if epoch % 100 == 0:\n",
        "        print(f\"Epoch: {epoch} | Train loss: {loss} | Test loss: {test_loss}\")\n"
      ]
    },
    {
      "cell_type": "code",
      "execution_count": null,
      "metadata": {
        "colab": {
          "base_uri": "https://localhost:8080/"
        },
        "id": "VCIkHGmSPWoc",
        "outputId": "375d1fbc-288e-4a6b-cc28-73d7bb7917c2"
      },
      "outputs": [
        {
          "name": "stdout",
          "output_type": "stream",
          "text": [
            "The model learned the following values for weights and bias:\n",
            "OrderedDict([('linear_layer.weight', tensor([[0.6929]], device='cuda:0')),\n",
            "             ('linear_layer.bias', tensor([0.2925], device='cuda:0'))])\n",
            "\n",
            "And the original values for weights and bias are:\n",
            "weights: 0.7, bias: 0.3\n"
          ]
        }
      ],
      "source": [
        "# Find our model's learned parameters\n",
        "from pprint import pprint # pprint = pretty print, see: https://docs.python.org/3/library/pprint.html \n",
        "print(\"The model learned the following values for weights and bias:\")\n",
        "pprint(model_1.state_dict())\n",
        "print(\"\\nAnd the original values for weights and bias are:\")\n",
        "print(f\"weights: {weight}, bias: {bias}\")"
      ]
    },
    {
      "cell_type": "code",
      "execution_count": null,
      "metadata": {
        "id": "n2Td4CBKPpZe"
      },
      "outputs": [],
      "source": []
    }
  ],
  "metadata": {
    "accelerator": "GPU",
    "colab": {
      "collapsed_sections": [],
      "name": "pytorch1.ipynb",
      "provenance": []
    },
    "gpuClass": "standard",
    "kernelspec": {
      "display_name": "Python 3 (ipykernel)",
      "language": "python",
      "name": "python3"
    },
    "language_info": {
      "codemirror_mode": {
        "name": "ipython",
        "version": 3
      },
      "file_extension": ".py",
      "mimetype": "text/x-python",
      "name": "python",
      "nbconvert_exporter": "python",
      "pygments_lexer": "ipython3",
      "version": "3.7.5"
    }
  },
  "nbformat": 4,
  "nbformat_minor": 0
}
